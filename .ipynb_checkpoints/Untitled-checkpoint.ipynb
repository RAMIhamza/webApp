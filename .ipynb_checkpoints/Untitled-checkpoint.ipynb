{
 "cells": [
  {
   "cell_type": "code",
   "execution_count": null,
   "metadata": {},
   "outputs": [],
   "source": [
    "import pickle\n",
    "import pandas as pd\n",
    "from preprocessing import preprocessing_\n",
    "pickle_in = open(\"model_gmm.pkl\",\"rb\")\n",
    "estimator = pickle.load(pickle_in)\n",
    "pickle_in.close()\n",
    "\n",
    "\n",
    "# preprocessing\n",
    "def preprocessing():\n",
    "    data_contrats = pd.read_csv('train_contrats_approx.csv',sep=\";\")\n",
    "    train_data,test_data = preprocessing_(data_contrats, balance=False, train_size=1.)\n",
    "    return train_data\n",
    "\n",
    "def prediction(m):\n",
    "    train_data=preprocessing()\n",
    "    return estimator.predict(train_data.sample().drop([\"Freq_sinistre\"],axis=1))[0]"
   ]
  },
  {
   "cell_type": "code",
   "execution_count": null,
   "metadata": {},
   "outputs": [],
   "source": [
    "prediction(\"hello\")"
   ]
  },
  {
   "cell_type": "code",
   "execution_count": null,
   "metadata": {},
   "outputs": [],
   "source": [
    "import pickle\n",
    "import pandas as pd\n",
    "from preprocessing import preprocessing_\n",
    "pickle_in = open(\"model_gmm.pkl\",\"rb\")\n",
    "estimator = pickle.load(pickle_in)\n",
    "pickle_in.close()\n",
    "\n",
    "\n",
    "# preprocessing\n",
    "def preprocessing(IMMAT , ValeurPuissance, Type_Apporteur, Activite , Formule, Classe_Age_Situ_Cont):\n",
    "    data_contrats = pd.read_csv('train_contrats_approx.csv',sep=\";\")\n",
    "    data_contrats = data_contrats.append({\"IMMAT\":IMMAT , \"ValeurPuissance\":ValeurPuissance, \"Type_Apporteur\":Type_Apporteur, \"Activite\":Activite , \"Formule\":Formule, \"Classe_Age_Situ_Cont\":Classe_Age_Situ_Cont}).fillna(method=\"pad\")\n",
    "    \n",
    "    train_data,test_data = preprocessing_(data_contrats, balance=False, train_size=1.)\n",
    "    return train_data.iloc[-1].values\n",
    "train_data=preprocessing()"
   ]
  },
  {
   "cell_type": "code",
   "execution_count": null,
   "metadata": {},
   "outputs": [],
   "source": [
    "data_contrats = pd.read_csv('train_contrats_approx.csv',sep=\";\")"
   ]
  },
  {
   "cell_type": "code",
   "execution_count": null,
   "metadata": {},
   "outputs": [],
   "source": [
    "train_data.iloc[len(train_data)-1:len(train_data)]"
   ]
  },
  {
   "cell_type": "code",
   "execution_count": null,
   "metadata": {},
   "outputs": [],
   "source": [
    "import numpy as np\n",
    "data_contrats.append({'IMMAT':100,\"Categorie_ensemble\":100},ignore_index=True).fillna(method=\"pad\")"
   ]
  },
  {
   "cell_type": "code",
   "execution_count": null,
   "metadata": {},
   "outputs": [],
   "source": [
    "data_contrats.Classe_Age_Situ_Cont.iloc[0]"
   ]
  },
  {
   "cell_type": "code",
   "execution_count": null,
   "metadata": {},
   "outputs": [],
   "source": [
    "data_contrats.IMMAT.value_counts()"
   ]
  },
  {
   "cell_type": "code",
   "execution_count": null,
   "metadata": {},
   "outputs": [],
   "source": [
    "train_data.iloc[-1].values"
   ]
  },
  {
   "cell_type": "code",
   "execution_count": null,
   "metadata": {},
   "outputs": [],
   "source": [
    "train_data.drop([\"Freq_sinitre\"],axis=1)"
   ]
  },
  {
   "cell_type": "code",
   "execution_count": 12,
   "metadata": {},
   "outputs": [],
   "source": [
    "import pickle\n",
    "import pandas as pd\n",
    "from preprocessing import preprocessing_\n",
    "pickle_in = open(\"model_gmm.pkl\",\"rb\")\n",
    "estimator = pickle.load(pickle_in)\n",
    "pickle_in.close()\n",
    "\n",
    "\n",
    "# preprocessing\n",
    "def preprocessing():\n",
    "    data_contrats = pd.read_csv('train_contrats_approx.csv',sep=\";\")\n",
    "    train_data,test_data = preprocessing_(data_contrats, balance=False, train_size=1.)\n",
    "    return train_data\n",
    "# preprocessing\n",
    "def preprocessing2(IMMAT , ValeurPuissance, Type_Apporteur, Activite , Formule, Classe_Age_Situ_Cont):\n",
    "    data_contrats = pd.read_csv('train_contrats_approx.csv',sep=\";\")\n",
    "    data_contrats = data_contrats.append({\"IMMAT\":IMMAT , \"ValeurPuissance\":ValeurPuissance, \"Type_Apporteur\":Type_Apporteur, \"Activite\":Activite , \"Formule\":Formule, \"Classe_Age_Situ_Cont\":Classe_Age_Situ_Cont},ignore_index=True).fillna(method=\"pad\")\n",
    "    \n",
    "    train_data,test_data = preprocessing_(data_contrats, balance=False, train_size=1.)\n",
    "#     print(train_data.columns)\n",
    "#     train_data.drop([\"Freq_sinitre\"],axis=1)\n",
    "    return train_data.iloc[len(train_data)-1:len(train_data)].drop(['Freq_sinistre'],axis=1)\n",
    "def prediction(v):\n",
    "    train_data=preprocessing()\n",
    "    index=estimator.predict(train_data.sample().drop([\"Freq_sinistre\"],axis=1))\n",
    "    return estimator.predict(train_data.sample().drop([\"Freq_sinistre\"],axis=1))[0]\n",
    "\n",
    "def prediction2(v):\n",
    "    index=estimator.predict(v)\n",
    "    return index[0]"
   ]
  },
  {
   "cell_type": "code",
   "execution_count": 11,
   "metadata": {},
   "outputs": [
    {
     "name": "stdout",
     "output_type": "stream",
     "text": [
      "Index(['Classe_Age_Situ_Cont', 'franchise', 'Exposition_au_risque',\n",
      "       'ValeurPuissance', 'Freq_sinistre', 'Type_Apporteur_1',\n",
      "       'Type_Apporteur_2', 'Type_Apporteur_3', 'Activite_1', 'Activite_2',\n",
      "       'Activite_3', 'Activite_4', 'Activite_5', 'Activite_6', 'Activite_7',\n",
      "       'Activite_8', 'Mode_gestion_N', 'Mode_gestion_P', 'Zone_1.0',\n",
      "       'Zone_2.0', 'Zone_3.0', 'Zone_4.0', 'Zone_5.0', 'Zone_6.0',\n",
      "       'Fractionnement_A', 'Fractionnement_S', 'Fractionnement_T',\n",
      "       'FORMULE_2.0', 'FORMULE_3.0', 'FORMULE_4.0', 'FORMULE_5.0',\n",
      "       'Age_du_vehicule_<= 5 ans', 'Age_du_vehicule_> 5 ans'],\n",
      "      dtype='object')\n"
     ]
    },
    {
     "data": {
      "text/html": [
       "<div>\n",
       "<style scoped>\n",
       "    .dataframe tbody tr th:only-of-type {\n",
       "        vertical-align: middle;\n",
       "    }\n",
       "\n",
       "    .dataframe tbody tr th {\n",
       "        vertical-align: top;\n",
       "    }\n",
       "\n",
       "    .dataframe thead th {\n",
       "        text-align: right;\n",
       "    }\n",
       "</style>\n",
       "<table border=\"1\" class=\"dataframe\">\n",
       "  <thead>\n",
       "    <tr style=\"text-align: right;\">\n",
       "      <th></th>\n",
       "      <th>Classe_Age_Situ_Cont</th>\n",
       "      <th>franchise</th>\n",
       "      <th>Exposition_au_risque</th>\n",
       "      <th>ValeurPuissance</th>\n",
       "      <th>Type_Apporteur_1</th>\n",
       "      <th>Type_Apporteur_2</th>\n",
       "      <th>Type_Apporteur_3</th>\n",
       "      <th>Activite_1</th>\n",
       "      <th>Activite_2</th>\n",
       "      <th>Activite_3</th>\n",
       "      <th>...</th>\n",
       "      <th>Zone_6.0</th>\n",
       "      <th>Fractionnement_A</th>\n",
       "      <th>Fractionnement_S</th>\n",
       "      <th>Fractionnement_T</th>\n",
       "      <th>FORMULE_2.0</th>\n",
       "      <th>FORMULE_3.0</th>\n",
       "      <th>FORMULE_4.0</th>\n",
       "      <th>FORMULE_5.0</th>\n",
       "      <th>Age_du_vehicule_&lt;= 5 ans</th>\n",
       "      <th>Age_du_vehicule_&gt; 5 ans</th>\n",
       "    </tr>\n",
       "  </thead>\n",
       "  <tbody>\n",
       "    <tr>\n",
       "      <th>87228</th>\n",
       "      <td>0.83952</td>\n",
       "      <td>0.27984</td>\n",
       "      <td>0.039178</td>\n",
       "      <td>0.27984</td>\n",
       "      <td>0.0</td>\n",
       "      <td>0.0</td>\n",
       "      <td>0.13992</td>\n",
       "      <td>0.0</td>\n",
       "      <td>0.13992</td>\n",
       "      <td>0.0</td>\n",
       "      <td>...</td>\n",
       "      <td>0.0</td>\n",
       "      <td>0.0</td>\n",
       "      <td>0.0</td>\n",
       "      <td>0.13992</td>\n",
       "      <td>0.0</td>\n",
       "      <td>0.13992</td>\n",
       "      <td>0.0</td>\n",
       "      <td>0.0</td>\n",
       "      <td>0.13992</td>\n",
       "      <td>0.0</td>\n",
       "    </tr>\n",
       "  </tbody>\n",
       "</table>\n",
       "<p>1 rows × 32 columns</p>\n",
       "</div>"
      ],
      "text/plain": [
       "       Classe_Age_Situ_Cont  franchise  Exposition_au_risque  ValeurPuissance  \\\n",
       "87228               0.83952    0.27984              0.039178          0.27984   \n",
       "\n",
       "       Type_Apporteur_1  Type_Apporteur_2  Type_Apporteur_3  Activite_1  \\\n",
       "87228               0.0               0.0           0.13992         0.0   \n",
       "\n",
       "       Activite_2  Activite_3           ...             Zone_6.0  \\\n",
       "87228     0.13992         0.0           ...                  0.0   \n",
       "\n",
       "       Fractionnement_A  Fractionnement_S  Fractionnement_T  FORMULE_2.0  \\\n",
       "87228               0.0               0.0           0.13992          0.0   \n",
       "\n",
       "       FORMULE_3.0  FORMULE_4.0  FORMULE_5.0  Age_du_vehicule_<= 5 ans  \\\n",
       "87228      0.13992          0.0          0.0                   0.13992   \n",
       "\n",
       "       Age_du_vehicule_> 5 ans  \n",
       "87228                      0.0  \n",
       "\n",
       "[1 rows x 32 columns]"
      ]
     },
     "execution_count": 11,
     "metadata": {},
     "output_type": "execute_result"
    }
   ],
   "source": [
    "preprocessing2(1200. , 2, 3, 2 , 2, '> 5 ans').drop(['Freq_sinistre'],axis=1)"
   ]
  },
  {
   "cell_type": "code",
   "execution_count": 13,
   "metadata": {},
   "outputs": [
    {
     "name": "stdout",
     "output_type": "stream",
     "text": [
      "Index(['Classe_Age_Situ_Cont', 'franchise', 'Exposition_au_risque',\n",
      "       'ValeurPuissance', 'Freq_sinistre', 'Type_Apporteur_1',\n",
      "       'Type_Apporteur_2', 'Type_Apporteur_3', 'Activite_1', 'Activite_2',\n",
      "       'Activite_3', 'Activite_4', 'Activite_5', 'Activite_6', 'Activite_7',\n",
      "       'Activite_8', 'Mode_gestion_N', 'Mode_gestion_P', 'Zone_1.0',\n",
      "       'Zone_2.0', 'Zone_3.0', 'Zone_4.0', 'Zone_5.0', 'Zone_6.0',\n",
      "       'Fractionnement_A', 'Fractionnement_S', 'Fractionnement_T',\n",
      "       'FORMULE_2.0', 'FORMULE_3.0', 'FORMULE_4.0', 'FORMULE_5.0',\n",
      "       'Age_du_vehicule_<= 5 ans', 'Age_du_vehicule_> 5 ans'],\n",
      "      dtype='object')\n"
     ]
    }
   ],
   "source": [
    "prediction_ = prediction2(preprocessing2(1200. , 2, 3, 2 , 2, '> 5 ans'))"
   ]
  },
  {
   "cell_type": "code",
   "execution_count": 14,
   "metadata": {},
   "outputs": [
    {
     "data": {
      "text/plain": [
       "array([1], dtype=int64)"
      ]
     },
     "execution_count": 14,
     "metadata": {},
     "output_type": "execute_result"
    }
   ],
   "source": [
    "prediction_"
   ]
  },
  {
   "cell_type": "code",
   "execution_count": null,
   "metadata": {},
   "outputs": [],
   "source": []
  }
 ],
 "metadata": {
  "kernelspec": {
   "display_name": "Python 3",
   "language": "python",
   "name": "python3"
  },
  "language_info": {
   "codemirror_mode": {
    "name": "ipython",
    "version": 3
   },
   "file_extension": ".py",
   "mimetype": "text/x-python",
   "name": "python",
   "nbconvert_exporter": "python",
   "pygments_lexer": "ipython3",
   "version": "3.6.8"
  }
 },
 "nbformat": 4,
 "nbformat_minor": 2
}
